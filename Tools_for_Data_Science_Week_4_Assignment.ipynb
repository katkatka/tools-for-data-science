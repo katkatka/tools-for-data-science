{
  "nbformat": 4,
  "nbformat_minor": 0,
  "metadata": {
    "colab": {
      "name": "Tools for Data Science - Week 4 - Assignment.ipynb",
      "provenance": [],
      "authorship_tag": "ABX9TyMOB+wDx/p9GYBDX3Mdn4y/",
      "include_colab_link": true
    },
    "kernelspec": {
      "name": "python3",
      "display_name": "Python 3"
    },
    "language_info": {
      "name": "python"
    }
  },
  "cells": [
    {
      "cell_type": "markdown",
      "metadata": {
        "id": "view-in-github",
        "colab_type": "text"
      },
      "source": [
        "<a href=\"https://colab.research.google.com/github/katkatka/tools-for-data-science/blob/main/Tools_for_Data_Science_Week_4_Assignment.ipynb\" target=\"_parent\"><img src=\"https://colab.research.google.com/assets/colab-badge.svg\" alt=\"Open In Colab\"/></a>"
      ]
    },
    {
      "cell_type": "markdown",
      "source": [
        "# My Jupyter Notebook on IBM Watson Studio"
      ],
      "metadata": {
        "id": "sPItltp_pjdt"
      }
    },
    {
      "cell_type": "markdown",
      "source": [
        "**Katherine Kwan**\n",
        "<p> I'm currently the data & insights director with Wunderman Thompson, and I would like to enrich my data science capability. "
      ],
      "metadata": {
        "id": "ohLlp3u0pwyj"
      }
    },
    {
      "cell_type": "markdown",
      "source": [
        "*I am interested in data science because this makes data actionable in realtime*"
      ],
      "metadata": {
        "id": "6i1pFLNVqr5s"
      }
    },
    {
      "cell_type": "markdown",
      "source": [
        "###Code for 1+1"
      ],
      "metadata": {
        "id": "vH0HJhODrT76"
      }
    },
    {
      "cell_type": "code",
      "source": [
        "1+1"
      ],
      "metadata": {
        "colab": {
          "base_uri": "https://localhost:8080/"
        },
        "id": "scIzcdGirnay",
        "outputId": "8afd9a4a-0885-44c5-809f-ab2e68fa7a3a"
      },
      "execution_count": 1,
      "outputs": [
        {
          "output_type": "execute_result",
          "data": {
            "text/plain": [
              "2"
            ]
          },
          "metadata": {},
          "execution_count": 1
        }
      ]
    },
    {
      "cell_type": "markdown",
      "source": [
        "This cell must include at least 3 elements and I have the following:\n",
        "*   bulleted list\n",
        "*   ~~strikethrough~~\n",
        "*   `code/syntax`\n",
        "\n",
        "\n",
        "\n"
      ],
      "metadata": {
        "id": "Nc6-DnydrvcX"
      }
    }
  ]
}